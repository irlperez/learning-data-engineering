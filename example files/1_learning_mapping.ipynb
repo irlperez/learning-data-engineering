{
 "cells": [
  {
   "cell_type": "markdown",
   "metadata": {},
   "source": [
    "### 1 `for` loop example"
   ]
  },
  {
   "cell_type": "code",
   "execution_count": 1,
   "metadata": {},
   "outputs": [
    {
     "data": {
      "text/plain": [
       "[1, 4, 9, 16, 25]"
      ]
     },
     "execution_count": 1,
     "metadata": {},
     "output_type": "execute_result"
    }
   ],
   "source": [
    "numbers = [1, 2, 3, 4, 5] # list of values \n",
    "\n",
    "squared = [] # empty list for results \n",
    "\n",
    "for num in numbers: # for loop\n",
    "    squared.append(num ** 2) # list function, squaring each num\n",
    "\n",
    "squared # results"
   ]
  },
  {
   "cell_type": "markdown",
   "metadata": {},
   "source": [
    "### 2 `map()` example"
   ]
  },
  {
   "cell_type": "code",
   "execution_count": null,
   "metadata": {},
   "outputs": [],
   "source": [
    "def square(number): # define function, takes one parameter\n",
    "    return number ** 2 # returns the passed number squared\n",
    "\n",
    "numbers = [1, 2, 3, 4, 5] # list of values \n",
    "\n",
    "squared = map(square, numbers) # new map object, created from map function, map(function, iterable)\n",
    "\n",
    "list(squared) # passed to a a list bc return from above was a map object"
   ]
  },
  {
   "cell_type": "markdown",
   "metadata": {},
   "source": [
    "### 3 another `map()` example"
   ]
  },
  {
   "cell_type": "code",
   "execution_count": 5,
   "metadata": {},
   "outputs": [
    {
     "name": "stdout",
     "output_type": "stream",
     "text": [
      "[4, 8, 6, 5, 3, 2, 8, 9, 2, 5]\n",
      "['4', '8', '6', '5', '3', '2', '8', '9', '2', '5']\n"
     ]
    }
   ],
   "source": [
    "str_nums = [\"4\", \"8\", \"6\", \"5\", \"3\", \"2\", \"8\", \"9\", \"2\", \"5\"] # list of strings\n",
    "\n",
    "int_nums = map(int,str_nums)\n",
    "int_nums # map object\n",
    "\n",
    "print(list(int_nums)) # now a string with ints\n",
    "print(str_nums)"
   ]
  },
  {
   "cell_type": "code",
   "execution_count": null,
   "metadata": {},
   "outputs": [],
   "source": []
  }
 ],
 "metadata": {
  "kernelspec": {
   "display_name": "Python 3",
   "language": "python",
   "name": "python3"
  },
  "language_info": {
   "codemirror_mode": {
    "name": "ipython",
    "version": 3
   },
   "file_extension": ".py",
   "mimetype": "text/x-python",
   "name": "python",
   "nbconvert_exporter": "python",
   "pygments_lexer": "ipython3",
   "version": "3.10.4"
  },
  "orig_nbformat": 4
 },
 "nbformat": 4,
 "nbformat_minor": 2
}
