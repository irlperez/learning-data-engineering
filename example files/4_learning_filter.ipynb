{
 "cells": [
  {
   "cell_type": "markdown",
   "metadata": {},
   "source": [
    "## Understanding the Filtering Problem\n",
    "Let's say we need to process a list of numbers and return a new list containing only those numbers greater than 0. A quick way is to use a loop."
   ]
  },
  {
   "cell_type": "code",
   "execution_count": 3,
   "metadata": {},
   "outputs": [
    {
     "data": {
      "text/plain": [
       "[1, 2]"
      ]
     },
     "execution_count": 3,
     "metadata": {},
     "output_type": "execute_result"
    }
   ],
   "source": [
    "numbers = [-2, -1, 0, 1, 2] # list of numbers\n",
    "\n",
    "def extract_positive(numbers): # new function\n",
    "    positive_numbers = [] # new empty list\n",
    "    for number in numbers:\n",
    "        if number > 0: # filter condition\n",
    "            positive_numbers.append(number) # appending each positive number to the empty list\n",
    "    return positive_numbers # return the now populated list\n",
    "\n",
    "\n",
    "extract_positive(numbers)"
   ]
  },
  {
   "cell_type": "markdown",
   "metadata": {},
   "source": [
    "The conditional statement filters out the negative numbers and 0. This kinda of functionality is known as filtering.\n",
    "\n",
    "Let's instead use `filter()` along with a predicate function to extract the desired numbers. We can use either a lambda or a user-defined function. See below"
   ]
  },
  {
   "cell_type": "code",
   "execution_count": 5,
   "metadata": {},
   "outputs": [
    {
     "name": "stdout",
     "output_type": "stream",
     "text": [
      "<filter object at 0x105d81840>\n",
      "[1, 2]\n"
     ]
    },
    {
     "data": {
      "text/plain": [
       "[1, 2]"
      ]
     },
     "execution_count": 5,
     "metadata": {},
     "output_type": "execute_result"
    }
   ],
   "source": [
    "numbers = [-2, -1, 0, 1, 2] # list\n",
    "\n",
    "# using a lambda function\n",
    "positive_numbers = filter(lambda n: n > 0, numbers)\n",
    "print(positive_numbers) # prints the filter object\n",
    "print(list(positive_numbers)) # converts the object to a list\n",
    "\n",
    "# using a user-defined function\n",
    "def is_positive(n): # single argument function\n",
    "    return n > 0 \n",
    "\n",
    "list(filter(is_positive, numbers)) # create a list, from a filter object which we passed a function and an iterable"
   ]
  },
  {
   "cell_type": "code",
   "execution_count": null,
   "metadata": {},
   "outputs": [],
   "source": []
  }
 ],
 "metadata": {
  "kernelspec": {
   "display_name": "Python 3",
   "language": "python",
   "name": "python3"
  },
  "language_info": {
   "codemirror_mode": {
    "name": "ipython",
    "version": 3
   },
   "file_extension": ".py",
   "mimetype": "text/x-python",
   "name": "python",
   "nbconvert_exporter": "python",
   "pygments_lexer": "ipython3",
   "version": "3.10.4"
  },
  "orig_nbformat": 4
 },
 "nbformat": 4,
 "nbformat_minor": 2
}
